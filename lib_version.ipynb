{
  "cells": [
    {
      "cell_type": "markdown",
      "metadata": {
        "id": "8OtlQly0i6vn"
      },
      "source": [
        "# **This is the first phase**"
      ]
    },
    {
      "cell_type": "code",
      "execution_count": 1,
      "metadata": {
        "colab": {
          "base_uri": "https://localhost:8080/"
        },
        "id": "pol9ZB-XeoXH",
        "outputId": "a965f2cc-9fc2-45e2-d3f1-dc249d214e2c"
      },
      "outputs": [
        {
          "output_type": "stream",
          "name": "stdout",
          "text": [
            " 1  I am Rashed \n",
            "\n",
            "2 Pandas version is 2.2.2\n",
            "3 Numpy version is 1.26.4\n",
            "4 Matplotlib version is 3.10.0\n",
            "5 Scikit-learn version is 1.6.1\n",
            "6 Seaborn version is 0.13.2\n",
            "7 Scipy version is 1.13.1\n",
            "8 Statsmodels version is 0.14.4\n",
            "9 Tensorflow version is 2.17.1\n",
            "10 Keras version is 3.5.0\n",
            "11 PyTorch version is 2.5.1+cu121\n",
            "1 math ==============================================\n",
            "its math library <class 'module'>\n",
            "['__doc__', '__loader__', '__name__', '__package__', '__spec__', 'acos', 'acosh', 'asin', 'asinh', 'atan', 'atan2', 'atanh', 'cbrt', 'ceil', 'comb', 'copysign', 'cos', 'cosh', 'degrees', 'dist', 'e', 'erf', 'erfc', 'exp', 'exp2', 'expm1', 'fabs', 'factorial', 'floor', 'fmod', 'frexp', 'fsum', 'gamma', 'gcd', 'hypot', 'inf', 'isclose', 'isfinite', 'isinf', 'isnan', 'isqrt', 'lcm', 'ldexp', 'lgamma', 'log', 'log10', 'log1p', 'log2', 'modf', 'nan', 'nextafter', 'perm', 'pi', 'pow', 'prod', 'radians', 'remainder', 'sin', 'sinh', 'sqrt', 'tan', 'tanh', 'tau', 'trunc', 'ulp']\n",
            "Help on built-in function log in module math:\n",
            "\n",
            "log(...)\n",
            "    log(x, [base=math.e])\n",
            "    Return the logarithm of x to the given base.\n",
            "    \n",
            "    If the base not specified, returns the natural logarithm (base e) of x.\n",
            "\n",
            "math pi variable is 3.141592653589793  \n",
            " doc is This module provides access to the mathematical functions\n",
            "defined by the C standard. \n",
            " doc is <built-in method count of str object at 0x7eca86b90540> \n",
            " loader  is <class '_frozen_importlib.BuiltinImporter'> \n",
            " Log function is  3.3219280948873626 None\n",
            "\n",
            " degree function is  <built-in function degrees> 90.0\n",
            "\n",
            " with out dot use variabl 3.141592653589793\n",
            "2  numpy ==============================================\n",
            "\n",
            " 1 type of numpy  <class 'module'> \n",
            " 2 numpy dir demo value from index -3 to 0  []\n"
          ]
        }
      ],
      "source": [
        "print(\" ********** I am Rashedul Hoque, Practice Project of Data Science  ********** \\n\")\n",
        "import pandas as pd\n",
        "print(\"2 Pandas version is \"+pd.__version__)\n",
        "import numpy as np\n",
        "print(\"3 Numpy version is \"+np.__version__)\n",
        "import matplotlib as plt\n",
        "print(\"4 Matplotlib version is \"+plt.__version__)\n",
        "import sklearn as sk\n",
        "print(\"5 Scikit-learn version is \"+sk.__version__)\n",
        "import seaborn as sns\n",
        "print(\"6 Seaborn version is \"+sns.__version__)\n",
        "import scipy as sp\n",
        "print(\"7 Scipy version is \"+sp.__version__)\n",
        "import statsmodels as sm\n",
        "print(\"8 Statsmodels version is \"+sm.__version__)\n",
        "import tensorflow as tf\n",
        "print(\"9 Tensorflow version is \"+tf.__version__)\n",
        "import keras\n",
        "print(\"10 Keras version is \"+keras.__version__)\n",
        "import torch\n",
        "print(\"11 PyTorch version is \"+torch.__version__)\n",
        "\n",
        "print('1 math ==============================================')\n",
        "\n",
        "dic = {'roll':[10,20,30,15,1,8,9,6,5,2,5]}\n",
        "dic['roll']\n",
        "\n",
        "import math\n",
        "\n",
        "print(\"its math library {}\".format(type(math)))\n",
        "print(dir(math))\n",
        "print(\"math pi variable is {} \".format(math.pi),\"\\n doc is {}\".format(math.__doc__),\"\\n doc is {}\".format(math.__doc__.count),\"\\n loader  is {}\".format(math.__loader__),\n",
        "      \"\\n Log function is \",math.log(10,2),help(math.log))\n",
        "\n",
        "\n",
        "import math as mt\n",
        "print('\\n degree function is ', mt.degrees, mt.degrees(math.pi/2))\n",
        "\n",
        "# import * makes all the module's variables directly accessible to you (without any dotted prefix). Bad news: some purists might grumble at you for doing this. Worse: they kind of have a point.\n",
        "from math import *\n",
        "print('\\n with out dot use variabl',pi)\n",
        "\n",
        "print('2  numpy ==============================================')\n",
        "import numpy\n",
        "print(\"\\n 1 type of numpy \",type(numpy),\"\\n 2 numpy dir demo value from index -3 to 0 \",dir(numpy.random)[-3:+5])\n",
        "\n"
      ]
    },
    {
      "cell_type": "code",
      "execution_count": null,
      "metadata": {
        "id": "bJj8jn8GrLwk"
      },
      "outputs": [],
      "source": []
    }
  ],
  "metadata": {
    "accelerator": "GPU",
    "colab": {
      "gpuType": "T4",
      "provenance": []
    },
    "kernelspec": {
      "display_name": "Python 3",
      "name": "python3"
    },
    "language_info": {
      "name": "python"
    }
  },
  "nbformat": 4,
  "nbformat_minor": 0
}